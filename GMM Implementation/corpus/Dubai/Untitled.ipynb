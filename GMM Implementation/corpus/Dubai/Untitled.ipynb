{
 "cells": [
  {
   "cell_type": "code",
   "execution_count": 1,
   "metadata": {},
   "outputs": [],
   "source": [
    "#Harish Bachu\n",
    "\n",
    "#Python Implementation\n",
    "\n",
    "#Paper on Unsupervised Change Detection in Satellite Images\n",
    "#Using Principal Component Analysis\n",
    "#and k -Means Clustering\n",
    "\n",
    "#07 May 2020\n",
    "\n",
    "'''\n",
    "STEPS:\n",
    "1. CREATE DIFFERENCE IMAGE X_d = |X1 - X2|\n",
    "2. CREATE hxh NON-OVERLAPPING BLOCKS (h > 2)\n",
    "3. GREATE EIGENVECTOR SPACE USING PCA\n",
    "4. GENERATE 2 CLUSTERS FROM FEATURE VECTOR SPACE USING K-MEANS\n",
    "5. ASSIGN EACH FEATURE VECTOR TO THE NEAREST CLUSTER\\\n",
    "'''\n",
    "\n",
    "import numpy as np \n",
    "import cv2\n",
    "from matplotlib import pyplot as plt \n",
    "from math import gcd\n",
    "from sklearn.cluster import KMeans\n",
    "\n",
    "rate = 0.9\n",
    "\n"
   ]
  },
  {
   "cell_type": "code",
   "execution_count": 2,
   "metadata": {},
   "outputs": [],
   "source": [
    "def get_blocks(X_d, H, W, h):\t\t\t\t\t\t\t#Returns Vectors\n",
    "\n",
    "\tblocks = []\n",
    "\tfor i in range(H):\n",
    "\t\tfor j in range(W):\n",
    "\t\t\tblocks.append(np.reshape(X_d[i : i + h, j : j + h], (h**2, 1)))\n",
    "\tblocks = np.array(blocks)\n",
    "\treturn blocks"
   ]
  },
  {
   "cell_type": "code",
   "execution_count": 3,
   "metadata": {},
   "outputs": [],
   "source": [
    "def get_square(blocks):\t\t\t\t\t\t\t\t\t#Returns Square for generating C\n",
    "\n",
    "\tsquares = []\n",
    "\tfor i in blocks[:5]:\n",
    "\t\tj = np.array([i])\n",
    "\t\tsquares.append(np.dot(j.T, j))\n",
    "\treturn np.array(squares)"
   ]
  },
  {
   "cell_type": "code",
   "execution_count": 4,
   "metadata": {},
   "outputs": [],
   "source": [
    "def PCA(C, blocks):\t\t\t\t\t\t\t\t\t\t#Performs PCA\n",
    "\n",
    "\tC_eigenvalue, C_eigenvector = np.linalg.eig(C)\n",
    "\tids = C_eigenvalue.argsort()[::-1]\n",
    "\tC_eigenvalue = C_eigenvalue[ids]\n",
    "\tC_eigenvector = C_eigenvector[ids]\n",
    "\tfor i in range(len(C_eigenvalue)):\n",
    "\t\tif sum(C_eigenvalue[i:]) >= rate*sum(C_eigenvalue):\n",
    "\t\t\tbreak\n",
    "\teigenvector = C_eigenvector[:, i:]\n",
    "\tfeature_vector = np.dot(blocks, eigenvector)\n",
    "\treturn feature_vector\n"
   ]
  },
  {
   "cell_type": "code",
   "execution_count": 5,
   "metadata": {},
   "outputs": [],
   "source": [
    "def K_means(feature, H, W):\t\t\t\t\t\t\t\t#K-Means Clustering for Change Detection\n",
    "\n",
    "\tlabel = KMeans(2).fit(feature).labels_\n",
    "\tc_map = np.reshape(label, (H, W))\t\t\t\t\t# STEP 5\n",
    "\tif sum(sum(c_map == 1)) > sum(sum(c_map == 0)):\n",
    "\t\tc_map[c_map == 1] = 0\n",
    "\t\tc_map[c_map == 0] = 1\n",
    "\tc_map = np.abs(c_map)*255\n",
    "\tc_map = c_map.astype(np.uint8)\n",
    "\treturn c_map"
   ]
  },
  {
   "cell_type": "code",
   "execution_count": 6,
   "metadata": {},
   "outputs": [],
   "source": [
    "def get_change_map(X1, X2):\n",
    "\n",
    "\trows, cols = X1.shape\n",
    "\tX1 = cv2.resize(X1, (cols, rows))\n",
    "\tX2 = cv2.resize(X2, (cols, rows))\n",
    "\t\n",
    "\tX_d = cv2.absdiff(X1, X2)\t\t\t\t\t\t\t# STEP 1\n",
    "\tH, W = X_d.shape\n",
    "\t\n",
    "\th = 3\t\t\t\t\t\t\t\t\t\t\t\t#block size\n",
    "\n",
    "\tpads = int(np.ceil(h / 2))\t\t\t\t\t\t\t\n",
    "\tX_d = np.pad(X_d, ((pads, pads), (pads, pads)))\t\t#padding difference image\n",
    "\n",
    "\tblocks = get_blocks(X_d, H, W, h)[:,:,0]\t\t\t# STEP 2\n",
    "\tM = int(W*H/h**2)\t\t\t\t\t\t\t\t\t#M\n",
    "\n",
    "\tC = np.sum(get_square(blocks), axis = 0)/M \t\t\t#C (h^2 x h^2) matrix for eigendecomposition\n",
    "\t\n",
    "\tfeature = PCA(C, blocks)\t\t\t\t\t\t\t# STEP 3\n",
    "\t\n",
    "\tchange_map = K_means(feature, H, W)\t\t\t\t\t# STEP 4\n",
    "\t\n",
    "\treturn X_d, change_map"
   ]
  },
  {
   "cell_type": "code",
   "execution_count": null,
   "metadata": {},
   "outputs": [],
   "source": [
    "X1 = cv2.imread('Dubai_11122012_md.jpg', 0)\n",
    "X2 = cv2.imread('Dubai_11272000_md.jpg', 0)\n",
    "difference, change = get_change_map(X1, X2)\n",
    "cv2.imshow(\"Image 1\", X1)\n",
    "cv2.imshow(\"Image 2\", X2)\n",
    "cv2.imshow(\"Difference Image\", difference)\n",
    "cv2.imshow(\"Change\", change)\n",
    "cv2.waitKey(0)\n",
    "cv2.destroyAllWindows()"
   ]
  },
  {
   "cell_type": "code",
   "execution_count": null,
   "metadata": {},
   "outputs": [],
   "source": []
  }
 ],
 "metadata": {
  "kernelspec": {
   "display_name": "Python 3",
   "language": "python",
   "name": "python3"
  },
  "language_info": {
   "codemirror_mode": {
    "name": "ipython",
    "version": 3
   },
   "file_extension": ".py",
   "mimetype": "text/x-python",
   "name": "python",
   "nbconvert_exporter": "python",
   "pygments_lexer": "ipython3",
   "version": "3.6.9"
  }
 },
 "nbformat": 4,
 "nbformat_minor": 4
}
