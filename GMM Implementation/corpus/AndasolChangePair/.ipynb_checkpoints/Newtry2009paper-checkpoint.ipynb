{
 "cells": [
  {
   "cell_type": "markdown",
   "metadata": {},
   "source": [
    "\n",
    "Unsupervised Change Detection in Satellite Images\n",
    "Using Principal Component Analysis\n",
    "and k -Means Clustering\n",
    "\n",
    "Atreya Majumdar\n"
   ]
  },
  {
   "cell_type": "code",
   "execution_count": 3,
   "metadata": {},
   "outputs": [],
   "source": [
    "import cv2 as cv\n",
    "import numpy as np\n",
    "from matplotlib import pyplot as plt \n",
    "from sklearn.cluster import KMeans\n",
    "import math"
   ]
  },
  {
   "cell_type": "code",
   "execution_count": 4,
   "metadata": {},
   "outputs": [],
   "source": [
    "#path1 = \"im1.jpg\" #Read image 1 in Grayscale\n",
    "#path2 = \"im2.jpg\" #Read image 2 in Grayscale\n",
    "\n",
    "im1 = cv.imread(\"im1.jpg\",0)\n",
    "im2 = cv.imread(\"im2.jpg\",0)\n",
    "\n",
    "if im1.shape==im2.shape:  #Storing height and width of image if dimensions of two images are the same\n",
    "    H, W = im1.shape \n",
    "else:\n",
    "    H,W =im1.shape   #Resizing image 2 to dimensions of image 1 if they are different and then storing them\n",
    "    im2=cv.resize(im2, (H,W) )\n",
    "    im1=cv.resize(im1,(H,W))\n",
    "    "
   ]
  },
  {
   "cell_type": "code",
   "execution_count": 5,
   "metadata": {},
   "outputs": [],
   "source": [
    "def Normaldiffimg(im1,im2,H,W):  # Function to generate normalized difference image\n",
    "    difference1 = cv.absdiff(im1, im2)\n",
    "    norm_img = np.zeros((H,W))\n",
    "    normalizedimg = cv.normalize(difference1,  norm_img, 0, 255, cv.NORM_MINMAX)\n",
    "    return normalizedimg"
   ]
  },
  {
   "cell_type": "code",
   "execution_count": 6,
   "metadata": {},
   "outputs": [],
   "source": [
    "diffimg= Normaldiffimg(im1,im2, H, W) #Generating normalized difference image from given images"
   ]
  },
  {
   "cell_type": "code",
   "execution_count": 7,
   "metadata": {},
   "outputs": [],
   "source": [
    "#cv.imwrite(\"differenceatreya.png\",diff_img)"
   ]
  },
  {
   "cell_type": "code",
   "execution_count": 8,
   "metadata": {},
   "outputs": [],
   "source": [
    "#print(normalizedimg.shape)\n",
    "#print(im1.shape)\n",
    "#print(im2.shape)\n"
   ]
  },
  {
   "cell_type": "code",
   "execution_count": 9,
   "metadata": {},
   "outputs": [],
   "source": [
    "def Blocks(diff_img,h, H, W): #Function to generate h x h non-overlapping blocks in image\n",
    "    imgblock=[]\n",
    "    for i in range(H):\n",
    "        for j in range(W):\n",
    "            imgblock.append(np.reshape(diff_img[i : i + h, j : j + h], (h**2, 1)))\n",
    "    imgblock = np.array(imgblock)\n",
    "    return imgblock"
   ]
  },
  {
   "cell_type": "code",
   "execution_count": 10,
   "metadata": {},
   "outputs": [],
   "source": [
    "def co_variance_matrix(imgblock):\n",
    "    pre_c=[]\n",
    "    for i in imgblock[:5]:  #Computing the co-variance matrix, h^2 x h^2\n",
    "        ele=np.array([i])\n",
    "        x=np.dot(ele.T,ele) #Computing dot product of delta_p transpose and delta_p\n",
    "        pre_c.append(x)\n",
    "    new_pre=np.array(pre_c)\n",
    "    return new_pre"
   ]
  },
  {
   "cell_type": "code",
   "execution_count": 11,
   "metadata": {},
   "outputs": [],
   "source": [
    "def pca(matrix, imgblock):               #Applying Principal Component Analysis\n",
    "    evals, evecs = np.linalg.eig(matrix) #Storing the eigen values and vectors of the co-variance matrix\n",
    "    newc=evals.argsort()[::-1]           #Quicksorts the eigen vector matrixx then reverses it\n",
    "    evals=evals[newc]\n",
    "    evecs=evecs[newc]\n",
    "    for i in range(len(evals)):\n",
    "        if sum(evals[i:]) >= 0.9*sum(evals):  #Chose Rate= 0.9 here\n",
    "            break\n",
    "    new_evecs= evecs[:,i:]\n",
    "    f_vec= np.dot(imgblock, new_evecs)  #Calculating feature vector\n",
    "    return f_vec"
   ]
  },
  {
   "cell_type": "code",
   "execution_count": 12,
   "metadata": {},
   "outputs": [],
   "source": [
    "def K_means_func(fv,H,W):   # Applying K-means clustering with 2 clusters (k=2) and detecting changes\n",
    "    #Here, k=2\n",
    "    fitter=KMeans(2).fit(fv).labels_\n",
    "    change_map=np.reshape(fitter, (H,W))\n",
    "    if sum(sum(change_map == 1)) > sum(sum(change_map == 0)):\n",
    "        change_map[change_map == 1] = 0\n",
    "        change_map[change_map == 0] = 1\n",
    "    change_map = np.abs(change_map)*255\n",
    "    change_map = change_map.astype(np.uint8)\n",
    "    return change_map"
   ]
  },
  {
   "cell_type": "code",
   "execution_count": 13,
   "metadata": {},
   "outputs": [],
   "source": [
    "def final_map(im1, im2, H, W, h):\n",
    "    \n",
    "    diffimg=Normaldiffimg(im1,im2,H,W)\n",
    "    \n",
    "    \n",
    "    pads = int(np.ceil(h / 2)) \n",
    "    diffimg = np.pad(diffimg, ((pads, pads), (pads, pads)))  # Add padding to difference image\n",
    "    \n",
    "    imgblock = Blocks(diffimg,h, H, W)[:,:,0]\n",
    "    M = int(W*H/h*h)  # np.floor() returns a float so directly converting to int with () is more efficient\n",
    "    c_matrix = np.sum(co_variance_matrix(imgblock), axis = 0)/M \n",
    "    \n",
    "    fv=pca(c_matrix,imgblock)\n",
    "    change_map=K_means_func(fv,H,W)\n",
    "    return change_map\n",
    "    "
   ]
  },
  {
   "cell_type": "code",
   "execution_count": 14,
   "metadata": {},
   "outputs": [
    {
     "data": {
      "text/plain": [
       "True"
      ]
     },
     "execution_count": 14,
     "metadata": {},
     "output_type": "execute_result"
    }
   ],
   "source": [
    "h=4\n",
    "cv.imwrite(\"Normalized_Difference_Img.png\",diffimg)\n",
    "computed_map=final_map(im1,im2,H,W,h)\n",
    "cv.imwrite(\"Final_change_map.png\",computed_map)\n",
    "\n"
   ]
  },
  {
   "cell_type": "code",
   "execution_count": null,
   "metadata": {},
   "outputs": [],
   "source": []
  }
 ],
 "metadata": {
  "kernelspec": {
   "display_name": "Python 3",
   "language": "python",
   "name": "python3"
  },
  "language_info": {
   "codemirror_mode": {
    "name": "ipython",
    "version": 3
   },
   "file_extension": ".py",
   "mimetype": "text/x-python",
   "name": "python",
   "nbconvert_exporter": "python",
   "pygments_lexer": "ipython3",
   "version": "3.6.9"
  }
 },
 "nbformat": 4,
 "nbformat_minor": 4
}
