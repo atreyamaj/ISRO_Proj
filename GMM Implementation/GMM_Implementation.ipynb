{
 "cells": [
  {
   "cell_type": "code",
   "execution_count": 1,
   "metadata": {},
   "outputs": [],
   "source": [
    "import numpy as np\n",
    "import cv2\n",
    "from matplotlib import pyplot as plt\n",
    "from scipy.stats import multivariate_normal\n",
    "\n",
    "import os\n",
    "from tqdm import tqdm\n",
    "\n",
    "path1 = 'C:/Users/bachu/Documents/ISRO-20200828T092236Z-001/ISRO/corpus/ArgentinaChangePair/Argentina_01131994.jpg'\n",
    "path2 = 'C:/Users/bachu/Documents/ISRO-20200828T092236Z-001/ISRO/corpus/ArgentinaChangePair/Argentina_01202014.jpg'\n",
    "\n",
    "# path1 = input('Enter path to image 1')\n",
    "# path2 = input('Enter path to image 2')"
   ]
  },
  {
   "cell_type": "code",
   "execution_count": 2,
   "metadata": {},
   "outputs": [],
   "source": [
    "def show_images(imgs, titles):\n",
    "    for i in range(len(imgs)):\n",
    "        cv2.imshow(titles[i], imgs[i])\n",
    "    cv2.waitKey(0)\n",
    "    cv2.destroyAllWindows()"
   ]
  },
  {
   "cell_type": "code",
   "execution_count": 3,
   "metadata": {},
   "outputs": [],
   "source": [
    "class GMM:\n",
    "    def __init__(self, components, iterations = 5):\n",
    "        self.components = components\n",
    "        self.iterations = iterations\n",
    "        self.count = 0\n",
    "\n",
    "    def init(self, img):\n",
    "        self.shape = img.shape\n",
    "        self.n, self.m = self.shape\n",
    "\n",
    "        self.phi = np.full(shape = self.components, fill_value = 1/self.components)\n",
    "        self.weights = np.full(shape = self.shape, fill_value = 1/self.components)\n",
    "        \n",
    "        rand_r = np.random.randint(low = 0, high = self.n, size = self.components)\n",
    "        self.mu = [img[index,:] for index in rand_r]\n",
    "        self.sigma = [np.cov(img.T) for _ in range(self.components)]\n",
    "\n",
    "    def e_step(self, img):\n",
    "        self.weights = self.predict_probabilities(img)\n",
    "        self.phi = self.weights.mean(axis=0)\n",
    "    \n",
    "    def m_step(self, img):\n",
    "        for i in tqdm(range(self.components)):\n",
    "            weight = self.weights[:, [i]]\n",
    "            sum_weight = weight.sum()\n",
    "            self.mu[i] = (img * weight).sum(axis=0) / sum_weight\n",
    "            self.sigma[i] = np.cov(img.T, aweights=(weight/sum_weight).flatten(), bias=True)\n",
    "\n",
    "    def fit(self, img):\n",
    "        self.init(img)\n",
    "        \n",
    "        for _ in range(self.iterations):\n",
    "#             print('Iteration {}'.format(self.count))\n",
    "            self.e_step(img)\n",
    "            self.m_step(img)\n",
    "            self.count += 1\n",
    "            \n",
    "    def predict_probabilities(self, img):\n",
    "        likelihood = np.zeros( (self.n, self.components) )\n",
    "        for i in range(self.components):\n",
    "            distribution = multivariate_normal(mean=self.mu[i], cov=self.sigma[i]) \n",
    "            likelihood[:, i] = distribution.pdf(img)\n",
    "        \n",
    "        num = likelihood * self.phi\n",
    "        den = num.sum(axis=1)[:, np.newaxis]\n",
    "        weights = num / den\n",
    "        return weights\n",
    "    \n",
    "    def predictions(self, img):\n",
    "        weights = self.predict_probabilities(img)\n",
    "        return np.argmax(weights, axis=1)\n",
    "    \n",
    "    def get_mean_variance(self):\n",
    "        return self.mu, self.sigma"
   ]
  },
  {
   "cell_type": "code",
   "execution_count": 4,
   "metadata": {},
   "outputs": [
    {
     "name": "stdout",
     "output_type": "stream",
     "text": [
      "Enter zoom-out factor5\n",
      "1200 2133\n"
     ]
    }
   ],
   "source": [
    "X1 = cv2.imread(path1, 0)\n",
    "X2 = cv2.imread(path2, 0)\n",
    "\n",
    "factor = int(input('Enter zoom-out factor'))\n",
    "\n",
    "length, width = X1.shape[:2]\n",
    "print(length, width)\n",
    "\n",
    "X1 = cv2.resize(X1, (int(width/factor), int(length/factor)))\n",
    "X2 = cv2.resize(X2, (int(width/factor), int(length/factor)))\n",
    "\n",
    "show_images([X1, X2], ['Image 1', 'Image 2'])"
   ]
  },
  {
   "cell_type": "code",
   "execution_count": 8,
   "metadata": {},
   "outputs": [
    {
     "data": {
      "text/plain": [
       "True"
      ]
     },
     "execution_count": 8,
     "metadata": {},
     "output_type": "execute_result"
    }
   ],
   "source": [
    "X_diff = cv2.absdiff(X1, X2)\n",
    "\n",
    "show_images([X_diff], ['Difference Image'])\n",
    "\n",
    "cv2.imwrite('Image1.jpg', X1)\n",
    "cv2.imwrite('Image2.jpg', X2)\n",
    "cv2.imwrite('Difference.jpg', X_diff)\n"
   ]
  },
  {
   "cell_type": "code",
   "execution_count": 6,
   "metadata": {},
   "outputs": [
    {
     "name": "stderr",
     "output_type": "stream",
     "text": [
      "100%|███████████████████████████████████████████████████████████████████████████████████| 2/2 [00:00<00:00, 332.63it/s]\n",
      "100%|███████████████████████████████████████████████████████████████████████████████████| 2/2 [00:00<00:00, 401.02it/s]\n",
      "100%|███████████████████████████████████████████████████████████████████████████████████| 2/2 [00:00<00:00, 401.12it/s]\n",
      "100%|███████████████████████████████████████████████████████████████████████████████████| 2/2 [00:00<00:00, 332.71it/s]\n",
      "100%|███████████████████████████████████████████████████████████████████████████████████| 2/2 [00:00<00:00, 286.54it/s]\n"
     ]
    }
   ],
   "source": [
    "gmm_model = GMM(components = 2, iterations = 5)\n",
    "X_preproc = X_diff\n",
    "gmm_model.fit(X_preproc.reshape(X_preproc.size, 1))"
   ]
  },
  {
   "cell_type": "code",
   "execution_count": 7,
   "metadata": {},
   "outputs": [],
   "source": [
    "means = gmm_model.get_mean_variance()[0]\n",
    "threshold = np.mean(means)\n",
    "X_res = X_diff > threshold\n",
    "X_res = X_res.astype(np.uint8) * 255.\n",
    "show_images([X_res], ['GMM Segmentation'])"
   ]
  },
  {
   "cell_type": "code",
   "execution_count": 9,
   "metadata": {},
   "outputs": [
    {
     "data": {
      "text/plain": [
       "True"
      ]
     },
     "execution_count": 9,
     "metadata": {},
     "output_type": "execute_result"
    }
   ],
   "source": [
    "cv2.imwrite('Change_Map.jpg', X_res)"
   ]
  },
  {
   "cell_type": "code",
   "execution_count": null,
   "metadata": {},
   "outputs": [],
   "source": []
  },
  {
   "cell_type": "code",
   "execution_count": null,
   "metadata": {},
   "outputs": [],
   "source": []
  }
 ],
 "metadata": {
  "kernelspec": {
   "display_name": "Python 3",
   "language": "python",
   "name": "python3"
  },
  "language_info": {
   "codemirror_mode": {
    "name": "ipython",
    "version": 3
   },
   "file_extension": ".py",
   "mimetype": "text/x-python",
   "name": "python",
   "nbconvert_exporter": "python",
   "pygments_lexer": "ipython3",
   "version": "3.6.12"
  }
 },
 "nbformat": 4,
 "nbformat_minor": 4
}
